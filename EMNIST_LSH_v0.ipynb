{
  "cells": [
    {
      "cell_type": "code",
      "execution_count": null,
      "metadata": {
        "id": "RFmQnT93WlVk"
      },
      "outputs": [],
      "source": [
        "import math\n",
        "import time\n",
        "import torchvision\n",
        "import numpy as np\n",
        "import matplotlib.pyplot as plt\n",
        "import torch\n",
        "from random import choices\n",
        "import copy\n",
        "import os\n",
        "import subprocess\n",
        "from torchvision import transforms\n",
        "import torch.nn as nn\n",
        "import csv\n",
        "import copy\n",
        "\n",
        "cos_sim = lambda a,b: np.dot(a, b)/(np.linalg.norm(a)*np.linalg.norm(b))"
      ]
    },
    {
      "cell_type": "markdown",
      "source": [
        "## LSH class implementation"
      ],
      "metadata": {
        "id": "Uq_u09Qa3q9T"
      }
    },
    {
      "cell_type": "code",
      "execution_count": null,
      "metadata": {
        "id": "LNxKoD5feL3v"
      },
      "outputs": [],
      "source": [
        "## Exact same implementation, just a few more variables for the shrinkage process\n",
        "class LSH_rp():\n",
        "  def __init__(self, trainset, d = 784):\n",
        "    self.array = trainset.data.numpy().reshape(len(trainset), d).astype('float') ## Turn dataset into a numpy array\n",
        "    self.trainset_array = self.array - self.array.mean(axis = 0) ## Re-center the dataset array\n",
        "    self.d = d\n",
        "\n",
        "    self.ix_to_label = [] ## digit by index in the dataset\n",
        "\n",
        "    self.label_to_ixs = {} ## indexes that represent each digit\n",
        "    self.label_to_reps = {} ## How many repetitions by label\n",
        "\n",
        "    for ix, (vec, label) in enumerate(trainset):\n",
        "      self.ix_to_label.append(label)\n",
        "\n",
        "      self.label_to_ixs[label] = self.label_to_ixs.get(label, [])\n",
        "      self.label_to_ixs[label].append(ix)\n",
        "\n",
        "      self.label_to_reps[label] = self.label_to_reps.get(label, 0) + 1\n",
        "\n",
        "    self.num_labels = len(self.label_to_ixs)\n",
        "\n",
        "  def hash_values(self, nbits = None, n_hashtables = None):\n",
        "    if not nbits:\n",
        "      nbits = int(math.log2(self.array.shape[0])/2) + 1\n",
        "    if not n_hashtables:\n",
        "      n_hashtables = int(math.log10(self.array.shape[0]))\n",
        "\n",
        "    rand_tables = np.random.normal(0,1,(n_hashtables, nbits, self.d))\n",
        "\n",
        "    self.tb_inthash_ix = [{} for i in range(n_hashtables)] ## save which indexes have each hash for each hash table\n",
        "    self.n_hashtables = n_hashtables\n",
        "\n",
        "    binary_array = (np.matmul(rand_tables, self.trainset_array.T) > 0).astype(int).transpose(0,2,1)\n",
        "    self.hashes_array = binary_array.dot(np.flip(1<<np.arange(nbits))).T\n",
        "\n",
        "    for ix in range(self.trainset_array.shape[0]):\n",
        "      hash = self.hashes_array[ix]\n",
        "      label = self.ix_to_label[ix]\n",
        "      for i in range(self.n_hashtables):\n",
        "        self.tb_inthash_ix[i][hash[i]] = self.tb_inthash_ix[i].get(hash[i], {lab:[] for lab in self.label_to_ixs.keys()})\n",
        "        self.tb_inthash_ix[i][hash[i]][label].append(ix)\n",
        "\n",
        "  def find_most_alike(self, ix):\n",
        "    label = self.ix_to_label[ix]\n",
        "    hash = self.hashes_array[ix]\n",
        "\n",
        "    return set([j for i in range(self.n_hashtables) for j in self.tb_inthash_ix[i][hash[i]][label]]) - set([ix])\n",
        "\n",
        "  def mean_dist(self):\n",
        "    mean_th = {}\n",
        "\n",
        "    Z = 1.65\n",
        "    E = 0.05\n",
        "    p = 0.5\n",
        "\n",
        "    for label, N in self.label_to_reps.items():\n",
        "      n = int(((Z**2 * N)*(p * (1-p))) / (((E**2)*(N-1)) + ((Z**2)*(p *(1-p))))) # Determine sample size\n",
        "      curr_sample = np.random.choice(self.label_to_ixs[label], n)\n",
        "      distance_sum = 0\n",
        "      for ix in curr_sample:\n",
        "        vec = self.array[ix]\n",
        "        distance_sum += np.array([1-cos_sim(vec, self.array[i]) for i in self.find_most_alike(ix)]).mean()\n",
        "\n",
        "      mean_th[label] = distance_sum/n\n",
        "\n",
        "    return mean_th"
      ]
    },
    {
      "cell_type": "markdown",
      "source": [
        "### LSH random-shrink implementation"
      ],
      "metadata": {
        "id": "uj5bLyDy3w1R"
      }
    },
    {
      "cell_type": "code",
      "execution_count": null,
      "metadata": {
        "id": "JHVR46Ptelvp"
      },
      "outputs": [],
      "source": [
        "## Similar to v0, but now elimination process is done randomly on each label, not on the full dataset.\n",
        "def LSH_Shrink(rp, p):\n",
        "  # Renaming\n",
        "  vectors = rp.array\n",
        "  labels = rp.ix_to_label\n",
        "  ixs_by_label = copy.deepcopy(rp.label_to_ixs)\n",
        "\n",
        "  th = rp.mean_dist()\n",
        "\n",
        "  deletion_by_label = {label:int(n*p) for label, n in rp.label_to_reps.items()}\n",
        "\n",
        "  chosen = []\n",
        "  for label in ixs_by_label.keys():\n",
        "    current_ixs = ixs_by_label[label]\n",
        "    label_max_deletion = deletion_by_label[label]\n",
        "\n",
        "    count = 0\n",
        "    while count < label_max_deletion:\n",
        "      try:\n",
        "        ix = np.random.choice(current_ixs)\n",
        "      except(ValueError):\n",
        "        print(f\"Se llegó al límite de eliminación de {label}'s\")\n",
        "        break\n",
        "\n",
        "      chosen.append(ix)\n",
        "      curr_vector = vectors[ix]\n",
        "      current_ixs.remove(ix)\n",
        "\n",
        "      alike_neighbours = rp.find_most_alike(ix)\n",
        "      neighbours_dist = sorted([(i, 1-cos_sim(vectors[i], curr_vector)) for i in alike_neighbours], key = lambda x: x[1])\n",
        "\n",
        "      local_count = 0\n",
        "      local_max = int(len(alike_neighbours)*p)\n",
        "      for alike_ix, distance in neighbours_dist:\n",
        "        if count >= label_max_deletion or local_count >= local_max or distance > th[label]*(min(0.19+0.9*p,1)):\n",
        "          break\n",
        "\n",
        "        try:\n",
        "          current_ixs.remove(alike_ix)\n",
        "          count += 1\n",
        "          local_count += 1\n",
        "        except(ValueError):\n",
        "          continue\n",
        "\n",
        "  return chosen + [i for label in ixs_by_label.keys() for i in ixs_by_label[label]]"
      ]
    },
    {
      "cell_type": "markdown",
      "source": [
        "### Plotting random index function"
      ],
      "metadata": {
        "id": "O_UFi15b32wg"
      }
    },
    {
      "cell_type": "code",
      "execution_count": null,
      "metadata": {
        "id": "VKhl04jrixfY"
      },
      "outputs": [],
      "source": [
        "def plot_results(rp, ix = None): ## plot the first 15 similar images next to a given image vector\n",
        "  if not ix:\n",
        "    ix = np.random.choice(rp.label_to_ixs[np.random.choice(list(rp.label_to_ixs.keys()))]) ## get a random index to find similar images\n",
        "  print(f'index: {ix}')\n",
        "  k = 15 ## find k most similar images\n",
        "\n",
        "  t0 = time.time()\n",
        "  vec = rp.array[ix]\n",
        "  sim_ixs = sorted(list(rp.find_most_alike(ix)), key = lambda i: 1-cos_sim(rp.array[i], vec))[:15]\n",
        "  print(f'time looking for neighbours: {time.time()-t0:.3f} s')\n",
        "\n",
        "  f, axarr = plt.subplots(4,4, figsize = (7,7), constrained_layout = True)\n",
        "  axarr[0][0].tick_params(axis='x', which='both', bottom=False, top=False, labelbottom=False)\n",
        "  axarr[0][0].tick_params(axis='y', which='both', left=False, right=False, labelleft=False)\n",
        "\n",
        "  axarr[0][0].imshow(rp.array[ix].reshape(28,28).T, cmap='gray')\n",
        "  axarr[0][0].set_title('Original image', fontsize = 9)\n",
        "  for j in range(0,min(15, len(sim_ixs))):\n",
        "    i = j+1\n",
        "    axarr[i//4][i%4].tick_params(axis='x', which='both', bottom=False, top=False, labelbottom=False)\n",
        "    axarr[i//4][i%4].tick_params(axis='y', which='both', left=False, right=False, labelleft=False)\n",
        "\n",
        "    dist = 1-cos_sim(rp.array[ix], rp.array[sim_ixs[j]])\n",
        "    axarr[i//4][i%4].set_title(f'{dist:.4f}', fontsize = 9)\n",
        "    axarr[i//4][i%4].imshow(rp.array[sim_ixs[j]].reshape(28,28).T, cmap = 'gray')"
      ]
    },
    {
      "cell_type": "markdown",
      "source": [
        "## Data exploration, testing"
      ],
      "metadata": {
        "id": "v4f5dwi337n6"
      }
    },
    {
      "cell_type": "code",
      "execution_count": null,
      "metadata": {
        "id": "XFswiumnWr6T",
        "colab": {
          "base_uri": "https://localhost:8080/"
        },
        "outputId": "d775bf88-d5af-49ae-e484-33b3583ff12b"
      },
      "outputs": [
        {
          "output_type": "stream",
          "name": "stdout",
          "text": [
            "Downloading https://www.itl.nist.gov/iaui/vip/cs_links/EMNIST/gzip.zip to ./data/EMNIST/raw/gzip.zip\n"
          ]
        },
        {
          "output_type": "stream",
          "name": "stderr",
          "text": [
            "100%|██████████| 561753746/561753746 [00:22<00:00, 25431574.87it/s]\n"
          ]
        },
        {
          "output_type": "stream",
          "name": "stdout",
          "text": [
            "Extracting ./data/EMNIST/raw/gzip.zip to ./data/EMNIST/raw\n"
          ]
        }
      ],
      "source": [
        "## Downloading and getting the E-MNIST letter dataset\n",
        "trainset = torchvision.datasets.EMNIST(root='./data', train=True, download=True, transform=transforms.ToTensor(), split = 'letters')\n",
        "testset = torchvision.datasets.EMNIST(root='./data', train=False, download=True, transform=transforms.ToTensor(), split = 'letters')"
      ]
    },
    {
      "cell_type": "code",
      "execution_count": null,
      "metadata": {
        "id": "VV4E2wi2e8uq"
      },
      "outputs": [],
      "source": [
        "rp = LSH_rp(trainset)"
      ]
    },
    {
      "cell_type": "code",
      "execution_count": null,
      "metadata": {
        "id": "JGy0j61Gi21A",
        "colab": {
          "base_uri": "https://localhost:8080/",
          "height": 447
        },
        "outputId": "70e90378-9f4d-40b3-ad15-8589768b0a23"
      },
      "outputs": [
        {
          "output_type": "execute_result",
          "data": {
            "text/plain": [
              "(1218.75, 413.00611470201017)"
            ]
          },
          "metadata": {},
          "execution_count": 7
        },
        {
          "output_type": "display_data",
          "data": {
            "text/plain": [
              "<Figure size 640x480 with 1 Axes>"
            ],
            "image/png": "[encoded data removed]"
          },
          "metadata": {}
        }
      ],
      "source": [
        "## Plotting the distribution of images among possible hashes\n",
        "n_bits = None             ## If None, an optimal number for nbits will be used\n",
        "n_hashtables = None       ## If None, n_hashtables = log10(N), where N is the number of data points, not necesarily optimal\n",
        "\n",
        "rp.hash_values(n_bits,n_hashtables)\n",
        "N = rp.array.shape[0]\n",
        "\n",
        "dict_counts = {}\n",
        "for table in rp.tb_inthash_ix:\n",
        "  for hash_int in table.keys():\n",
        "    for label in rp.label_to_ixs.keys():\n",
        "      dict_counts[hash_int] = dict_counts.get(hash_int, 0) + len(table[hash_int][label])\n",
        "\n",
        "arr = np.array(list(dict_counts.values()))\n",
        "\n",
        "plt.bar(dict_counts.keys(), dict_counts.values())\n",
        "(arr.mean(), arr.std())"
      ]
    },
    {
      "cell_type": "code",
      "source": [
        "## Plotting average cosine distance estimate along classes\n",
        "label_to_dist = rp.mean_dist()\n",
        "plt.bar(label_to_dist.keys(), label_to_dist.values())\n",
        "plt.xlabel('Label')\n",
        "plt.ylabel('Mean cosinde distance')"
      ],
      "metadata": {
        "colab": {
          "base_uri": "https://localhost:8080/",
          "height": 466
        },
        "id": "ITyrUS-swxBf",
        "outputId": "a91e713d-1239-4b2b-af63-5db2dec22872"
      },
      "execution_count": null,
      "outputs": [
        {
          "output_type": "execute_result",
          "data": {
            "text/plain": [
              "Text(0, 0.5, 'Mean cosinde distance')"
            ]
          },
          "metadata": {},
          "execution_count": 8
        },
        {
          "output_type": "display_data",
          "data": {
            "text/plain": [
              "<Figure size 640x480 with 1 Axes>"
            ],
            "image/png": "[encoded data removed]"
          },
          "metadata": {}
        }
      ]
    },
    {
      "cell_type": "code",
      "source": [
        "## Chosing a label and a random index's neighbours\n",
        "label = 20\n",
        "ix = np.random.choice(rp.label_to_ixs[label]) if label else None\n",
        "\n",
        "print(ix)\n",
        "plot_results(rp, ix)"
      ],
      "metadata": {
        "colab": {
          "base_uri": "https://localhost:8080/",
          "height": 780
        },
        "id": "oLDNGArIxsKD",
        "outputId": "1cfdbe99-9acb-41f4-f8f6-c656b4837e6b"
      },
      "execution_count": null,
      "outputs": [
        {
          "output_type": "stream",
          "name": "stdout",
          "text": [
            "67784\n",
            "index: 67784\n",
            "time looking for neighbours: 0.015 s\n"
          ]
        },
        {
          "output_type": "display_data",
          "data": {
            "text/plain": [
              "<Figure size 700x700 with 16 Axes>"
            ],
            "image/png": "[encoded data removed]"
          },
          "metadata": {}
        }
      ]
    },
    {
      "cell_type": "markdown",
      "source": [
        "## Model implementation (LeNet)"
      ],
      "metadata": {
        "id": "UvxF6v7P1EiB"
      }
    },
    {
      "cell_type": "code",
      "source": [
        "class LeNet(nn.Module):\n",
        "    def __init__(self, num_classes=10):\n",
        "        super(LeNet, self).__init__()\n",
        "        self.lenet = nn.Sequential(\n",
        "            nn.Conv2d(1, 6, kernel_size=5, stride=1, padding=0),\n",
        "            nn.BatchNorm2d(6),\n",
        "            nn.ReLU(),\n",
        "            nn.MaxPool2d(kernel_size=2, stride=2),\n",
        "            nn.Conv2d(6, 16, kernel_size=5, stride=1, padding=0),\n",
        "            nn.BatchNorm2d(16),\n",
        "            nn.ReLU(),\n",
        "            nn.MaxPool2d(kernel_size=2, stride=2),\n",
        "            nn.Flatten(1),\n",
        "            nn.Linear(256, 120),\n",
        "            nn.ReLU(),\n",
        "            nn.Linear(120, 84),\n",
        "            nn.ReLU(),\n",
        "            nn.Linear(84, num_classes)\n",
        "        )\n",
        "    def forward(self, x):\n",
        "        out = self.lenet(x)\n",
        "        return out\n",
        "\n",
        "# Training module\n",
        "def train(epoch, net, criterion, optimizer, trainloader, device):\n",
        "    net.train()\n",
        "    train_loss = 0\n",
        "    correct = 0\n",
        "    total = 0\n",
        "\n",
        "    best_acc = 0\n",
        "    best_loss = 999\n",
        "\n",
        "    for batch_idx, (inputs, targets) in enumerate(trainloader):\n",
        "        inputs, targets = inputs.to(device), targets.to(device)\n",
        "        optimizer.zero_grad()\n",
        "        outputs = net(inputs)\n",
        "        loss = criterion(outputs, targets)\n",
        "        loss.backward()\n",
        "        optimizer.step()\n",
        "\n",
        "        train_loss += loss.item()\n",
        "        _, predicted = outputs.max(1)\n",
        "        total += targets.size(0)\n",
        "        correct += predicted.eq(targets).sum().item()\n",
        "\n",
        "        train_loss = train_loss / (batch_idx + 1)\n",
        "        train_acc = 100. * correct / total\n",
        "\n",
        "        if best_acc < train_acc:\n",
        "          best_acc = train_acc\n",
        "          best_loss = train_loss\n",
        "\n",
        "    return best_loss, best_acc\n",
        "\n",
        "# Testing module\n",
        "def test(epoch, net, criterion, testloader, device):\n",
        "    global best_acc\n",
        "    net.eval()\n",
        "    test_loss = 0\n",
        "    correct = 0\n",
        "    total = 0\n",
        "\n",
        "    best_acc = 0\n",
        "    best_loss = 999\n",
        "\n",
        "    with torch.no_grad():\n",
        "        for batch_idx, (inputs, targets) in enumerate(testloader):\n",
        "            inputs, targets = inputs.to(device), targets.to(device)\n",
        "            outputs = net(inputs)\n",
        "            loss = criterion(outputs, targets)\n",
        "            test_loss += loss.item()\n",
        "            _, predicted = outputs.max(1)\n",
        "            total += targets.size(0)\n",
        "            correct += predicted.eq(targets).sum().item()\n",
        "\n",
        "        test_loss = test_loss / (batch_idx + 1)\n",
        "        test_acc = 100. * correct / total\n",
        "\n",
        "        if best_acc < test_acc:\n",
        "            best_acc = test_acc\n",
        "            best_loss = test_loss\n",
        "\n",
        "    return best_loss, best_acc\n",
        "\n",
        "def accuracy(rp, p):\n",
        "  # SHRINKING\n",
        "  t0 = time.time()\n",
        "  rp.hash_values()\n",
        "  reduced = LSH_Shrink(rp, p)\n",
        "  trainset_shrinked = torch.utils.data.Subset(trainset, reduced)\n",
        "\n",
        "  trainloader_MNIST = torch.utils.data.DataLoader(trainset_shrinked, batch_size=batch_size, shuffle=True, num_workers=2)\n",
        "  testloader_MNIST = torch.utils.data.DataLoader(testset, batch_size=batch_size, shuffle=True, num_workers=2)\n",
        "\n",
        "  # TRAINING\n",
        "  learning_rate = 0.001\n",
        "  epochs = 7\n",
        "  batch_size = 256\n",
        "\n",
        "  net = LeNet(num_classes=len(rp.label_to_reps.keys()) + 1)\n",
        "  net.to(\"mps\" if torch.backends.mps.is_available() else \"cuda\" if torch.cuda.is_available() else \"cpu\")\n",
        "  criterion = nn.CrossEntropyLoss()\n",
        "  optimizer = torch.optim.SGD(net.parameters(), lr=learning_rate, momentum=0.9, weight_decay=5e-4)\n",
        "\n",
        "  for epoch in range(1, epochs+1):\n",
        "      train_loss, train_acc = train(epoch, net, criterion, optimizer, trainloader_MNIST, device=device)\n",
        "      test_loss, test_acc = test(epoch, net, criterion, testloader_MNIST, device=device)\n",
        "\n",
        "  return (test_acc, time.time()-t0)"
      ],
      "metadata": {
        "id": "68ShO-pf1IRx"
      },
      "execution_count": null,
      "outputs": []
    },
    {
      "cell_type": "markdown",
      "source": [
        "# Shrinking and training the model"
      ],
      "metadata": {
        "id": "81gmSBIs1dkV"
      }
    },
    {
      "cell_type": "code",
      "source": [
        "## Downloading and getting the E-MNIST letter dataset\n",
        "trainset = torchvision.datasets.EMNIST(root='./data', train=True, download=True, transform=transforms.ToTensor(), split = 'letters')\n",
        "testset = torchvision.datasets.EMNIST(root='./data', train=False, download=True, transform=transforms.ToTensor(), split = 'letters')"
      ],
      "metadata": {
        "id": "WlH8Qvlp1cnD"
      },
      "execution_count": null,
      "outputs": []
    },
    {
      "cell_type": "code",
      "source": [
        "rp = LSH_rp(trainset)"
      ],
      "metadata": {
        "id": "g83etovR1mzU"
      },
      "execution_count": null,
      "outputs": []
    },
    {
      "cell_type": "code",
      "source": [
        "acc_res = []\n",
        "time_res = []\n",
        "for p in range(10):\n",
        "  local_res = accuracy(rp, p/10)\n",
        "  print(f'p: {p/10:.2f}  |  acc: {local_res[0]:.4f}  |  time: {local_res[1]:.4f}')\n",
        "\n",
        "  acc_res.append(local_res[0])\n",
        "  time_res.append(local_res[1])\n",
        "\n",
        "plt.plot([p/10 for p in range(10)], acc_res)\n",
        "plt.plot([p/10 for p in range(10)], time_res)"
      ],
      "metadata": {
        "colab": {
          "base_uri": "https://localhost:8080/",
          "height": 968
        },
        "id": "ho3NEWFS4E1O",
        "outputId": "4fd0d480-5e6c-4a05-bf6b-c969d4b520d0"
      },
      "execution_count": null,
      "outputs": [
        {
          "output_type": "stream",
          "name": "stdout",
          "text": [
            "p: 0.00  |  acc: 87.0769  |  time: 353.4775\n",
            "p: 0.10  |  acc: 86.8077  |  time: 356.4168\n"
          ]
        },
        {
          "output_type": "stream",
          "name": "stderr",
          "text": [
            "<ipython-input-2-fc0bc84f0391>:63: RuntimeWarning: Mean of empty slice.\n",
            "  distance_sum += np.array([1-cos_sim(vec, self.array[i]) for i in self.find_most_alike(ix)]).mean()\n",
            "/usr/local/lib/python3.10/dist-packages/numpy/core/_methods.py:189: RuntimeWarning: invalid value encountered in double_scalars\n",
            "  ret = ret.dtype.type(ret / rcount)\n"
          ]
        },
        {
          "output_type": "stream",
          "name": "stdout",
          "text": [
            "p: 0.20  |  acc: 86.6490  |  time: 327.8365\n",
            "p: 0.30  |  acc: 84.9808  |  time: 287.6483\n",
            "p: 0.40  |  acc: 83.5481  |  time: 253.7147\n",
            "p: 0.50  |  acc: 78.7260  |  time: 226.2120\n",
            "p: 0.60  |  acc: 72.1779  |  time: 197.0460\n",
            "p: 0.70  |  acc: 60.9279  |  time: 167.2596\n",
            "p: 0.80  |  acc: 40.5529  |  time: 146.0856\n",
            "Se llegó al límite de eliminación de 23's\n",
            "Se llegó al límite de eliminación de 7's\n",
            "Se llegó al límite de eliminación de 16's\n",
            "Se llegó al límite de eliminación de 17's\n",
            "Se llegó al límite de eliminación de 11's\n",
            "Se llegó al límite de eliminación de 24's\n",
            "Se llegó al límite de eliminación de 18's\n",
            "Se llegó al límite de eliminación de 21's\n",
            "Se llegó al límite de eliminación de 26's\n",
            "Se llegó al límite de eliminación de 19's\n",
            "Se llegó al límite de eliminación de 5's\n",
            "Se llegó al límite de eliminación de 2's\n",
            "Se llegó al límite de eliminación de 1's\n",
            "Se llegó al límite de eliminación de 8's\n",
            "Se llegó al límite de eliminación de 4's\n",
            "Se llegó al límite de eliminación de 6's\n",
            "p: 0.90  |  acc: 16.3413  |  time: 134.2771\n"
          ]
        },
        {
          "output_type": "execute_result",
          "data": {
            "text/plain": [
              "[<matplotlib.lines.Line2D at 0x7fd30abc35b0>]"
            ]
          },
          "metadata": {},
          "execution_count": 28
        },
        {
          "output_type": "display_data",
          "data": {
            "text/plain": [
              "<Figure size 640x480 with 1 Axes>"
            ],
            "image/png": "[encoded data removed]"
          },
          "metadata": {}
        }
      ]
    }
  ],
  "metadata": {
    "colab": {
      "provenance": [],
      "collapsed_sections": [
        "Uq_u09Qa3q9T"
      ]
    },
    "kernelspec": {
      "display_name": "Python 3",
      "name": "python3"
    },
    "language_info": {
      "name": "python"
    }
  },
  "nbformat": 4,
  "nbformat_minor": 0
}